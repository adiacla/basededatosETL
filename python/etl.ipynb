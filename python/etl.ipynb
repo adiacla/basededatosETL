{
 "cells": [
  {
   "cell_type": "markdown",
   "metadata": {},
   "source": [
    " # Taller ETL en MongoDB con Python"
   ]
  },
  {
   "cell_type": "code",
   "execution_count": null,
   "metadata": {},
   "outputs": [],
   "source": [
    "import os\n",
    "import pandas as pd\n",
    "from pymongo import MongoClient\n",
    "from dotenv import load_dotenv"
   ]
  },
  {
   "cell_type": "markdown",
   "metadata": {},
   "source": [
    "\n",
    "# Cargar variables desde .env"
   ]
  },
  {
   "cell_type": "code",
   "execution_count": null,
   "metadata": {},
   "outputs": [],
   "source": [
    "load_dotenv(dotenv_path=\"./.env\")\n",
    "MONGO_URI = os.getenv(\"MONGO_URI\")\n",
    "DB_NAME = os.getenv(\"DB_NAME\")\n",
    "COLLECTION = os.getenv(\"COLLECTION\")"
   ]
  },
  {
   "cell_type": "markdown",
   "metadata": {},
   "source": [
    "# --- EXTRACT ---"
   ]
  },
  {
   "cell_type": "code",
   "execution_count": null,
   "metadata": {},
   "outputs": [],
   "source": [
    "print(\"Extrayendo datos de MongoDB...\")\n",
    "client = MongoClient(MONGO_URI)\n",
    "db = client[DB_NAME]\n",
    "collection = db[COLLECTION]\n",
    "print(\"Coecciones...\",collection)\n",
    "data = list(collection.find())\n",
    "print(f\"Registros obtenidos: {len(data)}\")"
   ]
  },
  {
   "cell_type": "code",
   "execution_count": null,
   "metadata": {},
   "outputs": [],
   "source": [
    "# Convertir a DataFrame\n",
    "df = pd.DataFrame(data)"
   ]
  },
  {
   "cell_type": "code",
   "execution_count": null,
   "metadata": {},
   "outputs": [],
   "source": [
    "df"
   ]
  },
  {
   "cell_type": "markdown",
   "metadata": {},
   "source": [
    "# --- TRANSFORM ---"
   ]
  },
  {
   "cell_type": "code",
   "execution_count": null,
   "metadata": {},
   "outputs": [],
   "source": [
    "print(\" Transformando datos...\")"
   ]
  },
  {
   "cell_type": "code",
   "execution_count": null,
   "metadata": {},
   "outputs": [],
   "source": [
    "print(df.info())"
   ]
  },
  {
   "cell_type": "markdown",
   "metadata": {},
   "source": [
    "#  Resumen por ciudad:"
   ]
  },
  {
   "cell_type": "code",
   "execution_count": null,
   "metadata": {},
   "outputs": [],
   "source": [
    "print(df.groupby(\"ciudad\")[\"qty\"].sum())"
   ]
  },
  {
   "cell_type": "markdown",
   "metadata": {},
   "source": [
    "\n",
    "# Ventas promedio por unidad (precio * qty):"
   ]
  },
  {
   "cell_type": "code",
   "execution_count": null,
   "metadata": {},
   "outputs": [],
   "source": [
    "df[\"precio\"]"
   ]
  },
  {
   "cell_type": "markdown",
   "metadata": {},
   "source": [
    "En Mongo Decimal128 es un tipo específico que MongoDB usa para representar números decimales.\n",
    "\n",
    "Esta línea convierte solo los valores que son instancias de Decimal a float. Si el valor no es un Decimal, se deja tal como está."
   ]
  },
  {
   "cell_type": "code",
   "execution_count": null,
   "metadata": {},
   "outputs": [],
   "source": [
    "from bson.decimal128 import Decimal128\n",
    "\n",
    "# Asegúrate de convertir Decimal128 \n",
    "# Convierte Decimal128 a float\n",
    "df[\"precio\"] = df[\"precio\"].apply(lambda x: float(x.to_decimal()) if isinstance(x, Decimal128) else float(x))\n",
    "\n"
   ]
  },
  {
   "cell_type": "code",
   "execution_count": null,
   "metadata": {},
   "outputs": [],
   "source": [
    "df[\"precio\"]"
   ]
  },
  {
   "cell_type": "code",
   "execution_count": null,
   "metadata": {},
   "outputs": [],
   "source": [
    "# Asegurarnos de que 'precio' y 'qty' sean numéricos\n",
    "# Calcular la venta total\n",
    "df[\"venta_total\"] = df[\"precio\"] * df[\"qty\"].astype(float)\n",
    "\n",
    "# Mostrar solo las columnas relevantes\n",
    "print(df[[\"item\", \"venta_total\"]])\n"
   ]
  },
  {
   "cell_type": "markdown",
   "metadata": {},
   "source": [
    "# Resumen por ciudad"
   ]
  },
  {
   "cell_type": "code",
   "execution_count": null,
   "metadata": {},
   "outputs": [],
   "source": [
    "print(df.groupby(\"ciudad\")[\"venta_total\"].sum())"
   ]
  },
  {
   "cell_type": "markdown",
   "metadata": {},
   "source": [
    "# Filtrar productos con ventas internacionales:"
   ]
  },
  {
   "cell_type": "code",
   "execution_count": null,
   "metadata": {},
   "outputs": [],
   "source": [
    "df[\"ventas_internacional\"] = df[\"ventas\"].apply(lambda x: x.get(\"internacional\") if isinstance(x, dict) else None)\n",
    "print(df[[\"item\", \"ventas_internacional\"]])"
   ]
  },
  {
   "cell_type": "markdown",
   "metadata": {},
   "source": [
    "# Transformaciones útiles\n",
    "# Expandir las bodegas (stock):"
   ]
  },
  {
   "cell_type": "code",
   "execution_count": null,
   "metadata": {},
   "outputs": [],
   "source": [
    "stock_df = df.explode(\"stock\")\n",
    "stock_df[\"bodega\"] = stock_df[\"stock\"].apply(lambda x: x[\"bodega\"] if isinstance(x, dict) else None)\n",
    "stock_df[\"cantidad\"] = stock_df[\"stock\"].apply(lambda x: x[\"cantidad\"] if isinstance(x, dict) else None)\n",
    "stock_df = stock_df.drop(columns=[\"stock\"])\n",
    "stock_df.head()"
   ]
  },
  {
   "cell_type": "markdown",
   "metadata": {},
   "source": [
    "#Expandir calificaciones y sacar promedios:"
   ]
  },
  {
   "cell_type": "code",
   "execution_count": null,
   "metadata": {},
   "outputs": [],
   "source": [
    "print(df.columns)\n"
   ]
  },
  {
   "cell_type": "code",
   "execution_count": null,
   "metadata": {},
   "outputs": [],
   "source": [
    "venta_por_ciudad = df.groupby(\"ciudad\")[\"venta_total\"].sum()\n",
    "# Agrupar por ciudad y calcular venta total promedio\n",
    "print(df.groupby(\"ciudad\")[\"venta_total\"].mean())\n",
    "\n",
    "# Agrupar por estado y sumar ventas internacionales\n",
    "print(df.groupby(\"estado\")[\"ventas_internacional\"].sum())\n",
    "\n",
    "# Top 3 productos por venta_total\n",
    "print(df[[\"item\", \"venta_total\"]].sort_values(by=\"venta_total\", ascending=False).head(3))"
   ]
  },
  {
   "cell_type": "code",
   "execution_count": null,
   "metadata": {},
   "outputs": [],
   "source": [
    "import numpy as np\n",
    "\n",
    "df[\"prom_calidad\"] = df[\"evaCalidad\"].apply(lambda x: np.mean(x) if isinstance(x, (list, np.ndarray)) else None)\n",
    "df[\"prom_logistica\"] = df[\"evaLogistica\"].apply(lambda x: np.mean(x) if isinstance(x, (list, np.ndarray)) else None)\n"
   ]
  },
  {
   "cell_type": "code",
   "execution_count": null,
   "metadata": {},
   "outputs": [],
   "source": [
    "import matplotlib.pyplot as plt\n",
    "import seaborn as sns\n",
    "\n",
    "# Venta total por ciudad\n",
    "plt.figure(figsize=(8, 5))\n",
    "sns.barplot(x=\"ciudad\", y=\"venta_total\", data=df, estimator=sum)\n",
    "plt.title(\"Venta Total por Ciudad\")\n",
    "plt.ylabel(\"Venta Total\")\n",
    "plt.xlabel(\"Ciudad\")\n",
    "plt.xticks(rotation=45)\n",
    "plt.tight_layout()\n",
    "plt.show()\n",
    "\n",
    "# Promedios de evaluación\n",
    "plt.figure(figsize=(8, 5))\n",
    "df[[\"prom_calidad\", \"prom_logistica\"]].mean().plot(kind=\"bar\", color=[\"skyblue\", \"lightgreen\"])\n",
    "plt.title(\"Promedio de Evaluaciones\")\n",
    "plt.ylabel(\"Puntaje Promedio\")\n",
    "plt.xticks(rotation=0)\n",
    "plt.tight_layout()\n",
    "plt.show()"
   ]
  },
  {
   "cell_type": "markdown",
   "metadata": {},
   "source": [
    "#ETL a CSV"
   ]
  },
  {
   "cell_type": "code",
   "execution_count": null,
   "metadata": {},
   "outputs": [],
   "source": [
    "output_file = \"output.csv\"\n",
    "df.to_csv(output_file, index=False)\n",
    "print(f\"Datos transformados y guardados en {output_file}\")"
   ]
  },
  {
   "cell_type": "markdown",
   "metadata": {},
   "source": [
    "# --- LOAD ---"
   ]
  },
  {
   "cell_type": "code",
   "execution_count": null,
   "metadata": {},
   "outputs": [],
   "source": [
    "print(\"Cargando datos a MongoDB...\")"
   ]
  },
  {
   "cell_type": "code",
   "execution_count": null,
   "metadata": {},
   "outputs": [],
   "source": [
    "# Si es una Serie, conviértela a DataFrame y renombra columnas\n",
    "venta_por_ciudad = venta_por_ciudad.reset_index()\n",
    "venta_por_ciudad.columns = [\"ciudad\", \"ventas\"]\n",
    "\n",
    "print(venta_por_ciudad)\n"
   ]
  },
  {
   "cell_type": "code",
   "execution_count": null,
   "metadata": {},
   "outputs": [],
   "source": [
    "records = venta_por_ciudad.to_dict(\"records\")\n",
    "print(records)"
   ]
  },
  {
   "cell_type": "code",
   "execution_count": null,
   "metadata": {},
   "outputs": [],
   "source": [
    "# Cargar datos transformados a MongoDB\n",
    "output_collection = db[\"venta_por_ciudad\"]\n",
    "output_collection.insert_many(records)\n",
    "print(f\"Datos cargados en la colección {output_collection.name}\")\n",
    "print(\"Proceso ETL completo.\")"
   ]
  },
  {
   "cell_type": "code",
   "execution_count": null,
   "metadata": {},
   "outputs": [],
   "source": [
    "# Cerrar conexión\n",
    "client.close()"
   ]
  }
 ],
 "metadata": {
  "kernelspec": {
   "display_name": ".venv",
   "language": "python",
   "name": "python3"
  },
  "language_info": {
   "codemirror_mode": {
    "name": "ipython",
    "version": 3
   },
   "file_extension": ".py",
   "mimetype": "text/x-python",
   "name": "python",
   "nbconvert_exporter": "python",
   "pygments_lexer": "ipython3",
   "version": "3.11.0"
  }
 },
 "nbformat": 4,
 "nbformat_minor": 2
}
